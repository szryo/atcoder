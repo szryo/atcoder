{
 "cells": [
  {
   "cell_type": "code",
   "execution_count": 1,
   "id": "814016b2",
   "metadata": {},
   "outputs": [],
   "source": [
    "from collections import deque\n",
    "\n",
    "class UnionFind:\n",
    "    '0-indexed'\n",
    "    from typing import List\n",
    "\n",
    "    def __init__(self, n):\n",
    "        self.n = n\n",
    "        self.parent = [-1] * n\n",
    "\n",
    "    def unite(self, x, y) -> int:\n",
    "        'xとyを併合'\n",
    "        x = self.root(x)\n",
    "        y = self.root(y)\n",
    "        if x == y:\n",
    "            return 0\n",
    "        if self.parent[x] > self.parent[y]:\n",
    "            x, y = y, x\n",
    "        self.parent[x] += self.parent[y]\n",
    "        self.parent[y] = x\n",
    "        return self.parent[x]\n",
    "\n",
    "    def is_same(self, x, y) -> bool:\n",
    "        'xとyが同じ連結成分か判定'\n",
    "        return self.root(x) == self.root(y)\n",
    "\n",
    "    def root(self, x) -> int:\n",
    "        'xの根を取得'\n",
    "        if self.parent[x] < 0:\n",
    "            return x\n",
    "        else:\n",
    "            self.parent[x] = self.root(self.parent[x])\n",
    "            return self.parent[x]\n",
    "\n",
    "    def size(self, x) -> int:\n",
    "        'xが属する連結成分のサイズを取得'\n",
    "        return -self.parent[self.root(x)]\n",
    "\n",
    "    def all_sizes(self) -> List[int]:\n",
    "        '全連結成分のサイズのリストを取得'\n",
    "        '計算量: O(N)'\n",
    "        sizes = []\n",
    "        for i in range(self.n):\n",
    "            size = self.parent[i]\n",
    "            if size < 0:\n",
    "                sizes.append(-size)\n",
    "        return sizes\n",
    "\n",
    "    def groups(self) -> List[List[int]]:\n",
    "        '全連結成分のサイズの内容のリストを取得'\n",
    "        '計算量: O(N・α(N))'\n",
    "        'なんでACLはO(N)でできるんでしょうね'\n",
    "        groups = dict()\n",
    "        for i in range(self.n):\n",
    "            p = self.root(i)\n",
    "            if not groups.get(p):\n",
    "                groups[p] = []\n",
    "            groups[p].append(i)\n",
    "        return list(groups.values())"
   ]
  },
  {
   "cell_type": "code",
   "execution_count": null,
   "id": "a0cc29d9",
   "metadata": {},
   "outputs": [],
   "source": [
    "uf = UnionFind()"
   ]
  },
  {
   "cell_type": "code",
   "execution_count": 13,
   "id": "4484de15",
   "metadata": {},
   "outputs": [],
   "source": [
    "# n = int(input())\n",
    "# sx, sy, tx, ty = map(int, input().split())\n",
    "# a=[list(map(int,input().split())) for i in range(n)]\n",
    "n = 4\n",
    "sx,sy,tx,ty = map(int, \"0 -2 3 3\".split(sep=\" \"))\n",
    "a = \"\"\"0 0 2\n",
    "2 0 2\n",
    "2 3 1\n",
    "-3 3 3\"\"\"\n",
    "a = a.split(sep = \"\"\"\n",
    "\"\"\")\n",
    "a = [x.split(sep=\" \") for x in a]\n",
    "a = [list(map(int, x)) for x in a]"
   ]
  },
  {
   "cell_type": "code",
   "execution_count": 14,
   "id": "2f23ba2a",
   "metadata": {},
   "outputs": [],
   "source": [
    "uf = UnionFind(n)"
   ]
  },
  {
   "cell_type": "code",
   "execution_count": 17,
   "id": "881ec764",
   "metadata": {},
   "outputs": [
    {
     "data": {
      "text/plain": [
       "[-1, -1, -1, -1]"
      ]
     },
     "execution_count": 17,
     "metadata": {},
     "output_type": "execute_result"
    }
   ],
   "source": [
    "uf.parent"
   ]
  },
  {
   "cell_type": "code",
   "execution_count": null,
   "id": "29287649",
   "metadata": {},
   "outputs": [],
   "source": [
    "uf=UnionFind(n)\n",
    "circle = []\n",
    "sn = -1\n",
    "tn = -1\n",
    "for i in range(n):\n",
    "    xi, yi, ri = a[i]\n",
    "    if (xi - sx) * (xi - sx) + (yi - sy) * (yi - sy) == ri * ri:\n",
    "        idx1 = i\n",
    "    if (xi - tx) * (xi - tx) + (yi - ty) * (yi - ty) == ri * ri:\n",
    "        idx2 = i\n",
    "    for j in range(i + 1, n):\n",
    "        xj, yj, rj = a[j]\n",
    "        if xi == xj and yi == yj and ri != rj:\n",
    "            continue\n",
    "        if (xi - xj) * (xi - xj) + (yi - yj) * (yi - yj) <= (ri + rj) * (ri + rj):\n",
    "            uf.unite(i, j)\n",
    "if uf.is_same(idx1, idx2):\n",
    "    print('Yes')\n",
    "else:\n",
    "    print('No')"
   ]
  }
 ],
 "metadata": {
  "kernelspec": {
   "display_name": "Python 3 (ipykernel)",
   "language": "python",
   "name": "python3"
  },
  "language_info": {
   "codemirror_mode": {
    "name": "ipython",
    "version": 3
   },
   "file_extension": ".py",
   "mimetype": "text/x-python",
   "name": "python",
   "nbconvert_exporter": "python",
   "pygments_lexer": "ipython3",
   "version": "3.9.7"
  }
 },
 "nbformat": 4,
 "nbformat_minor": 5
}
